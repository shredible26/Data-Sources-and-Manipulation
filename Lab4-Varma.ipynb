{
  "cells": [
    {
      "cell_type": "markdown",
      "id": "bce1e71d",
      "metadata": {
        "id": "bce1e71d"
      },
      "source": [
        "\n",
        "\n",
        "**Research Question:** *Which fur color is most common among squirrels in Central Park?*\n",
        "\n",
        "The dataset comes from the **2018 Central Park Squirrel Census**.  \n",
        "It records every squirrel sighting observed in Central Park, New York City, during the census period.  \n",
        "Each row represents a single squirrel observation, and the dataset includes details such as:  \n",
        "\n",
        "- **Unique Squirrel ID**\n",
        "- **Hectare**\n",
        "- **Shift**\n",
        "- **Primary Fur Color**\n",
        "- **Location & Behaviors**\n",
        "- **Interactions with Humans**\n",
        "\n",
        "**Dataset URL:** https://data.cityofnewyork.us/resource/vfnx-vebw.csv\n"
      ]
    },
    {
      "cell_type": "markdown",
      "id": "360a1bf7",
      "metadata": {
        "id": "360a1bf7"
      },
      "source": [
        "## Step 1 — Load the dataset"
      ]
    },
    {
      "cell_type": "markdown",
      "id": "c2520d14",
      "metadata": {
        "id": "c2520d14"
      },
      "source": [
        "**Demo:** Tiny **ice cream orders**"
      ]
    },
    {
      "cell_type": "code",
      "execution_count": 1,
      "id": "ab0681d6",
      "metadata": {
        "colab": {
          "base_uri": "https://localhost:8080/",
          "height": 175
        },
        "id": "ab0681d6",
        "outputId": "ff242a1d-1165-469c-b3b5-8e47b4bbdf6d"
      },
      "outputs": [
        {
          "data": {
            "text/html": [
              "<div>\n",
              "<style scoped>\n",
              "    .dataframe tbody tr th:only-of-type {\n",
              "        vertical-align: middle;\n",
              "    }\n",
              "\n",
              "    .dataframe tbody tr th {\n",
              "        vertical-align: top;\n",
              "    }\n",
              "\n",
              "    .dataframe thead th {\n",
              "        text-align: right;\n",
              "    }\n",
              "</style>\n",
              "<table border=\"1\" class=\"dataframe\">\n",
              "  <thead>\n",
              "    <tr style=\"text-align: right;\">\n",
              "      <th></th>\n",
              "      <th>flavor</th>\n",
              "      <th>scoops</th>\n",
              "    </tr>\n",
              "  </thead>\n",
              "  <tbody>\n",
              "    <tr>\n",
              "      <th>0</th>\n",
              "      <td>Vanilla</td>\n",
              "      <td>1</td>\n",
              "    </tr>\n",
              "    <tr>\n",
              "      <th>1</th>\n",
              "      <td>Chocolate</td>\n",
              "      <td>2</td>\n",
              "    </tr>\n",
              "    <tr>\n",
              "      <th>2</th>\n",
              "      <td>Strawberry</td>\n",
              "      <td>1</td>\n",
              "    </tr>\n",
              "    <tr>\n",
              "      <th>3</th>\n",
              "      <td>Vanilla</td>\n",
              "      <td>3</td>\n",
              "    </tr>\n",
              "  </tbody>\n",
              "</table>\n",
              "</div>"
            ],
            "text/plain": [
              "       flavor  scoops\n",
              "0     Vanilla       1\n",
              "1   Chocolate       2\n",
              "2  Strawberry       1\n",
              "3     Vanilla       3"
            ]
          },
          "execution_count": 1,
          "metadata": {},
          "output_type": "execute_result"
        }
      ],
      "source": [
        "\n",
        "# Demo\n",
        "import pandas as pd\n",
        "\n",
        "demo_df = pd.DataFrame({\n",
        "    \"flavor\": [\"Vanilla\", \"Chocolate\", \"Strawberry\", \"Vanilla\"],\n",
        "    \"scoops\": [1, 2, 1, 3]\n",
        "})\n",
        "demo_df.head()\n"
      ]
    },
    {
      "cell_type": "markdown",
      "id": "5d0c8558",
      "metadata": {
        "id": "5d0c8558"
      },
      "source": [
        "**Task:** Load the squirrel dataset from the URL into a DataFrame named `df` and preview the first 5 rows."
      ]
    },
    {
      "cell_type": "code",
      "execution_count": null,
      "id": "dd6424d9",
      "metadata": {
        "id": "dd6424d9"
      },
      "outputs": [
        {
          "data": {
            "text/html": [
              "<div>\n",
              "<style scoped>\n",
              "    .dataframe tbody tr th:only-of-type {\n",
              "        vertical-align: middle;\n",
              "    }\n",
              "\n",
              "    .dataframe tbody tr th {\n",
              "        vertical-align: top;\n",
              "    }\n",
              "\n",
              "    .dataframe thead th {\n",
              "        text-align: right;\n",
              "    }\n",
              "</style>\n",
              "<table border=\"1\" class=\"dataframe\">\n",
              "  <thead>\n",
              "    <tr style=\"text-align: right;\">\n",
              "      <th></th>\n",
              "      <th>x</th>\n",
              "      <th>y</th>\n",
              "      <th>unique_squirrel_id</th>\n",
              "      <th>hectare</th>\n",
              "      <th>shift</th>\n",
              "      <th>date</th>\n",
              "      <th>hectare_squirrel_number</th>\n",
              "      <th>age</th>\n",
              "      <th>primary_fur_color</th>\n",
              "      <th>highlight_fur_color</th>\n",
              "      <th>...</th>\n",
              "      <th>kuks</th>\n",
              "      <th>quaas</th>\n",
              "      <th>moans</th>\n",
              "      <th>tail_flags</th>\n",
              "      <th>tail_twitches</th>\n",
              "      <th>approaches</th>\n",
              "      <th>indifferent</th>\n",
              "      <th>runs_from</th>\n",
              "      <th>other_interactions</th>\n",
              "      <th>geocoded_column</th>\n",
              "    </tr>\n",
              "  </thead>\n",
              "  <tbody>\n",
              "    <tr>\n",
              "      <th>0</th>\n",
              "      <td>-73.956134</td>\n",
              "      <td>40.794082</td>\n",
              "      <td>37F-PM-1014-03</td>\n",
              "      <td>37F</td>\n",
              "      <td>PM</td>\n",
              "      <td>10142018</td>\n",
              "      <td>3</td>\n",
              "      <td>NaN</td>\n",
              "      <td>NaN</td>\n",
              "      <td>NaN</td>\n",
              "      <td>...</td>\n",
              "      <td>False</td>\n",
              "      <td>False</td>\n",
              "      <td>False</td>\n",
              "      <td>False</td>\n",
              "      <td>False</td>\n",
              "      <td>False</td>\n",
              "      <td>False</td>\n",
              "      <td>False</td>\n",
              "      <td>NaN</td>\n",
              "      <td>POINT (-73.9561344937861 40.7940823884086)</td>\n",
              "    </tr>\n",
              "    <tr>\n",
              "      <th>1</th>\n",
              "      <td>-73.968857</td>\n",
              "      <td>40.783783</td>\n",
              "      <td>21B-AM-1019-04</td>\n",
              "      <td>21B</td>\n",
              "      <td>AM</td>\n",
              "      <td>10192018</td>\n",
              "      <td>4</td>\n",
              "      <td>NaN</td>\n",
              "      <td>NaN</td>\n",
              "      <td>NaN</td>\n",
              "      <td>...</td>\n",
              "      <td>False</td>\n",
              "      <td>False</td>\n",
              "      <td>False</td>\n",
              "      <td>False</td>\n",
              "      <td>False</td>\n",
              "      <td>False</td>\n",
              "      <td>False</td>\n",
              "      <td>False</td>\n",
              "      <td>NaN</td>\n",
              "      <td>POINT (-73.9688574691102 40.7837825208444)</td>\n",
              "    </tr>\n",
              "    <tr>\n",
              "      <th>2</th>\n",
              "      <td>-73.974281</td>\n",
              "      <td>40.775534</td>\n",
              "      <td>11B-PM-1014-08</td>\n",
              "      <td>11B</td>\n",
              "      <td>PM</td>\n",
              "      <td>10142018</td>\n",
              "      <td>8</td>\n",
              "      <td>NaN</td>\n",
              "      <td>Gray</td>\n",
              "      <td>NaN</td>\n",
              "      <td>...</td>\n",
              "      <td>False</td>\n",
              "      <td>False</td>\n",
              "      <td>False</td>\n",
              "      <td>False</td>\n",
              "      <td>False</td>\n",
              "      <td>False</td>\n",
              "      <td>False</td>\n",
              "      <td>False</td>\n",
              "      <td>NaN</td>\n",
              "      <td>POINT (-73.97428114848522 40.775533619083)</td>\n",
              "    </tr>\n",
              "    <tr>\n",
              "      <th>3</th>\n",
              "      <td>-73.959641</td>\n",
              "      <td>40.790313</td>\n",
              "      <td>32E-PM-1017-14</td>\n",
              "      <td>32E</td>\n",
              "      <td>PM</td>\n",
              "      <td>10172018</td>\n",
              "      <td>14</td>\n",
              "      <td>Adult</td>\n",
              "      <td>Gray</td>\n",
              "      <td>NaN</td>\n",
              "      <td>...</td>\n",
              "      <td>False</td>\n",
              "      <td>False</td>\n",
              "      <td>False</td>\n",
              "      <td>False</td>\n",
              "      <td>False</td>\n",
              "      <td>False</td>\n",
              "      <td>False</td>\n",
              "      <td>True</td>\n",
              "      <td>NaN</td>\n",
              "      <td>POINT (-73.9596413903948 40.7903128889029)</td>\n",
              "    </tr>\n",
              "    <tr>\n",
              "      <th>4</th>\n",
              "      <td>-73.970268</td>\n",
              "      <td>40.776213</td>\n",
              "      <td>13E-AM-1017-05</td>\n",
              "      <td>13E</td>\n",
              "      <td>AM</td>\n",
              "      <td>10172018</td>\n",
              "      <td>5</td>\n",
              "      <td>Adult</td>\n",
              "      <td>Gray</td>\n",
              "      <td>Cinnamon</td>\n",
              "      <td>...</td>\n",
              "      <td>False</td>\n",
              "      <td>False</td>\n",
              "      <td>False</td>\n",
              "      <td>False</td>\n",
              "      <td>False</td>\n",
              "      <td>False</td>\n",
              "      <td>False</td>\n",
              "      <td>False</td>\n",
              "      <td>NaN</td>\n",
              "      <td>POINT (-73.9702676472613 40.7762126854894)</td>\n",
              "    </tr>\n",
              "  </tbody>\n",
              "</table>\n",
              "<p>5 rows × 31 columns</p>\n",
              "</div>"
            ],
            "text/plain": [
              "           x          y unique_squirrel_id hectare shift      date  \\\n",
              "0 -73.956134  40.794082     37F-PM-1014-03     37F    PM  10142018   \n",
              "1 -73.968857  40.783783     21B-AM-1019-04     21B    AM  10192018   \n",
              "2 -73.974281  40.775534     11B-PM-1014-08     11B    PM  10142018   \n",
              "3 -73.959641  40.790313     32E-PM-1017-14     32E    PM  10172018   \n",
              "4 -73.970268  40.776213     13E-AM-1017-05     13E    AM  10172018   \n",
              "\n",
              "   hectare_squirrel_number    age primary_fur_color highlight_fur_color  ...  \\\n",
              "0                        3    NaN               NaN                 NaN  ...   \n",
              "1                        4    NaN               NaN                 NaN  ...   \n",
              "2                        8    NaN              Gray                 NaN  ...   \n",
              "3                       14  Adult              Gray                 NaN  ...   \n",
              "4                        5  Adult              Gray            Cinnamon  ...   \n",
              "\n",
              "    kuks  quaas  moans tail_flags tail_twitches  approaches  indifferent  \\\n",
              "0  False  False  False      False         False       False        False   \n",
              "1  False  False  False      False         False       False        False   \n",
              "2  False  False  False      False         False       False        False   \n",
              "3  False  False  False      False         False       False        False   \n",
              "4  False  False  False      False         False       False        False   \n",
              "\n",
              "   runs_from  other_interactions                             geocoded_column  \n",
              "0      False                 NaN  POINT (-73.9561344937861 40.7940823884086)  \n",
              "1      False                 NaN  POINT (-73.9688574691102 40.7837825208444)  \n",
              "2      False                 NaN  POINT (-73.97428114848522 40.775533619083)  \n",
              "3       True                 NaN  POINT (-73.9596413903948 40.7903128889029)  \n",
              "4      False                 NaN  POINT (-73.9702676472613 40.7762126854894)  \n",
              "\n",
              "[5 rows x 31 columns]"
            ]
          },
          "execution_count": 2,
          "metadata": {},
          "output_type": "execute_result"
        }
      ],
      "source": [
        "#TODO: Your task with the squirrel dataset!\n",
        "#Please provide you code here\n",
        "import pandas as pd\n",
        "df = pd.read_csv(\"vfnx-vebw.csv\")\n",
        "df.head()\n"
      ]
    },
    {
      "cell_type": "markdown",
      "id": "1e8a67db",
      "metadata": {
        "id": "1e8a67db"
      },
      "source": [
        "## Step 2 — Identify the fur color column"
      ]
    },
    {
      "cell_type": "markdown",
      "id": "b3897f89",
      "metadata": {
        "id": "b3897f89"
      },
      "source": [
        "**Demo:** Columns of a **mini movie list**; pick a relevant field (`genre`)."
      ]
    },
    {
      "cell_type": "code",
      "execution_count": 3,
      "id": "37925066",
      "metadata": {
        "colab": {
          "base_uri": "https://localhost:8080/"
        },
        "id": "37925066",
        "outputId": "5013dfa6-4682-40d2-ebaa-e09d7dcc8e2c"
      },
      "outputs": [
        {
          "data": {
            "text/plain": [
              "Index(['title', 'genre', 'year'], dtype='object')"
            ]
          },
          "execution_count": 3,
          "metadata": {},
          "output_type": "execute_result"
        }
      ],
      "source": [
        "\n",
        "# Demo\n",
        "mini_movies = pd.DataFrame({\n",
        "    \"title\": [\"Moonlight\", \"Arrival\", \"Dune\"],\n",
        "    \"genre\": [\"Drama\", \"Sci-Fi\", \"Sci-Fi\"],\n",
        "    \"year\": [2016, 2016, 2021]\n",
        "})\n",
        "mini_movies.columns\n"
      ]
    },
    {
      "cell_type": "markdown",
      "id": "c954514a",
      "metadata": {
        "id": "c954514a"
      },
      "source": [
        "**Task:** List all columns of `df` and locate the fur color column (commonly `primary_fur_color`)."
      ]
    },
    {
      "cell_type": "code",
      "execution_count": 12,
      "id": "f4700097",
      "metadata": {
        "id": "f4700097"
      },
      "outputs": [
        {
          "name": "stdout",
          "output_type": "stream",
          "text": [
            "['x', 'y', 'unique_squirrel_id', 'hectare', 'shift', 'date', 'hectare_squirrel_number', 'age', 'primary_fur_color', 'highlight_fur_color', 'combination_of_primary_and', 'color_notes', 'location', 'above_ground_sighter', 'specific_location', 'running', 'chasing', 'climbing', 'eating', 'foraging', 'other_activities', 'kuks', 'quaas', 'moans', 'tail_flags', 'tail_twitches', 'approaches', 'indifferent', 'runs_from', 'other_interactions', 'geocoded_column']\n"
          ]
        },
        {
          "data": {
            "text/plain": [
              "0     NaN\n",
              "1     NaN\n",
              "2    Gray\n",
              "3    Gray\n",
              "4    Gray\n",
              "Name: primary_fur_color, dtype: object"
            ]
          },
          "execution_count": 12,
          "metadata": {},
          "output_type": "execute_result"
        }
      ],
      "source": [
        "#TODO: Your task with the squirrel dataset!\n",
        "#Please provide you code here\n",
        "print(df.columns.tolist())\n",
        "df['primary_fur_color'].head()\n"
      ]
    },
    {
      "cell_type": "markdown",
      "id": "4a4d4460",
      "metadata": {
        "id": "4a4d4460"
      },
      "source": [
        "## Step 3 — Clean the data"
      ]
    },
    {
      "cell_type": "markdown",
      "id": "72b539cb",
      "metadata": {
        "id": "72b539cb"
      },
      "source": [
        "**Demo:** Clean messy **city names** (strip/case)."
      ]
    },
    {
      "cell_type": "code",
      "execution_count": 13,
      "id": "e1bfadfa",
      "metadata": {
        "colab": {
          "base_uri": "https://localhost:8080/"
        },
        "id": "e1bfadfa",
        "outputId": "7a137a58-7fef-460d-96b3-00e8e789fded"
      },
      "outputs": [
        {
          "name": "stdout",
          "output_type": "stream",
          "text": [
            "Name    1\n",
            "Age     1\n",
            "dtype: int64\n"
          ]
        }
      ],
      "source": [
        "\n",
        "# Demo\n",
        "import pandas as pd\n",
        "\n",
        "# Tiny example with null values\n",
        "data = {\n",
        "    \"Name\": [\"Alice\", \"Bob\", \"Charlie\", None],\n",
        "    \"Age\": [25, None, 30, 22]\n",
        "}\n",
        "demo_df = pd.DataFrame(data)\n",
        "\n",
        "# Check for null values\n",
        "print(demo_df.isnull().sum())\n",
        "\n"
      ]
    },
    {
      "cell_type": "markdown",
      "id": "ffec6cc3",
      "metadata": {
        "id": "ffec6cc3"
      },
      "source": [
        "\n",
        "**Task:** Standardize `primary_fur_color`:\n",
        "- Convert to string\n",
        "- Strip spaces\n",
        "- Title case  \n",
        "- Then show top 10 with `.value_counts()`.\n",
        "\n"
      ]
    },
    {
      "cell_type": "code",
      "execution_count": null,
      "id": "fe18627d",
      "metadata": {
        "id": "fe18627d"
      },
      "outputs": [
        {
          "data": {
            "text/plain": [
              "Gray        825\n",
              "Cinnamon    126\n",
              "Black        34\n",
              "Nan          15\n",
              "Name: primary_fur_color, dtype: int64"
            ]
          },
          "execution_count": 26,
          "metadata": {},
          "output_type": "execute_result"
        }
      ],
      "source": [
        "#TODO: Your task with the squirrel dataset!\n",
        "#Please provide you code here\n",
        "\n",
        "df['primary_fur_color'] = (df['primary_fur_color'].astype(str))\n",
        "df['primary_fur_color'] = (df['primary_fur_color'].str.strip())\n",
        "df['primary_fur_color'] = (df['primary_fur_color'].str.title())\n",
        "\n",
        "df['primary_fur_color'].value_counts().head(10)\n"
      ]
    },
    {
      "cell_type": "markdown",
      "id": "fa8bcb52",
      "metadata": {
        "id": "fa8bcb52"
      },
      "source": [
        "## Step 4 — Count the fur colors"
      ]
    },
    {
      "cell_type": "markdown",
      "id": "b7d27987",
      "metadata": {
        "id": "b7d27987"
      },
      "source": [
        "**Demo:** Count **pizza toppings**."
      ]
    },
    {
      "cell_type": "code",
      "execution_count": 27,
      "id": "f61436b7",
      "metadata": {
        "colab": {
          "base_uri": "https://localhost:8080/",
          "height": 210
        },
        "id": "f61436b7",
        "outputId": "4b6ef756-ad25-4453-ee95-102e71a1b9fd"
      },
      "outputs": [
        {
          "data": {
            "text/plain": [
              "Pepperoni    3\n",
              "Mushroom     2\n",
              "Olives       1\n",
              "Name: topping, dtype: int64"
            ]
          },
          "execution_count": 27,
          "metadata": {},
          "output_type": "execute_result"
        }
      ],
      "source": [
        "\n",
        "# Demo\n",
        "orders = pd.DataFrame({\n",
        "    \"topping\": [\"Mushroom\", \"Pepperoni\", \"Mushroom\", \"Olives\", \"Pepperoni\", \"Pepperoni\"]\n",
        "})\n",
        "topping_counts = orders[\"topping\"].value_counts()\n",
        "topping_counts\n"
      ]
    },
    {
      "cell_type": "markdown",
      "id": "fd07142f",
      "metadata": {
        "id": "fd07142f"
      },
      "source": [
        "**Task:** Compute `fur_counts = df['primary_fur_color'].value_counts()` and identify the most common color."
      ]
    },
    {
      "cell_type": "code",
      "execution_count": 40,
      "id": "affb363e",
      "metadata": {
        "id": "affb363e"
      },
      "outputs": [
        {
          "name": "stdout",
          "output_type": "stream",
          "text": [
            "Gray        825\n",
            "Cinnamon    126\n",
            "Black        34\n",
            "Nan          15\n",
            "Name: primary_fur_color, dtype: int64\n",
            "Most common fur color: Gray\n"
          ]
        }
      ],
      "source": [
        "#TODO: Your task with the squirrel dataset!\n",
        "#Please provide you code here\n",
        "\n",
        "fur_counts = df['primary_fur_color'].value_counts()\n",
        "print(fur_counts)\n",
        "most_common_color = fur_counts.idxmax()\n",
        "print(\"Most common fur color:\", most_common_color)"
      ]
    },
    {
      "cell_type": "markdown",
      "id": "8da15962",
      "metadata": {
        "id": "8da15962"
      },
      "source": [
        "## Step 5 — Visualize the results (Bar + Pie)"
      ]
    },
    {
      "cell_type": "markdown",
      "id": "66195712",
      "metadata": {
        "id": "66195712"
      },
      "source": [
        "**Demo:** Bar chart for **coffee drinks**; then a pie chart to show proportions."
      ]
    },
    {
      "cell_type": "code",
      "execution_count": 41,
      "id": "7e9645a5",
      "metadata": {
        "colab": {
          "base_uri": "https://localhost:8080/",
          "height": 966
        },
        "id": "7e9645a5",
        "outputId": "27e7378c-92fb-4cae-9f49-d6609260cd9d"
      },
      "outputs": [
        {
          "data": {
            "image/png": "[encoded data removed]",
            "text/plain": [
              "<Figure size 640x480 with 1 Axes>"
            ]
          },
          "metadata": {},
          "output_type": "display_data"
        },
        {
          "data": {
            "image/png": "[encoded data removed]",
            "text/plain": [
              "<Figure size 500x500 with 1 Axes>"
            ]
          },
          "metadata": {},
          "output_type": "display_data"
        }
      ],
      "source": [
        "\n",
        "# Demo (bar + pie)\n",
        "import matplotlib.pyplot as plt\n",
        "\n",
        "coffee = pd.DataFrame({\n",
        "    \"drink\": [\"Latte\", \"Espresso\", \"Latte\", \"Cappuccino\", \"Latte\", \"Espresso\"],\n",
        "})\n",
        "coffee_counts = coffee[\"drink\"].value_counts()\n",
        "\n",
        "# Bar\n",
        "coffee_counts.plot(kind='bar')\n",
        "plt.title(\"Coffee Drink Counts (Demo - Bar)\")\n",
        "plt.xlabel(\"Drink\")\n",
        "plt.ylabel(\"Count\")\n",
        "plt.show()\n",
        "\n",
        "# Pie\n",
        "coffee_counts.plot(kind='pie', autopct='%1.1f%%', figsize=(5,5))\n",
        "plt.title(\"Coffee Drink Proportions (Demo - Pie)\")\n",
        "plt.ylabel(\"\")\n",
        "plt.show()\n"
      ]
    },
    {
      "cell_type": "markdown",
      "id": "5d06790d",
      "metadata": {
        "id": "5d06790d"
      },
      "source": [
        "\n",
        "**Task:** Plot both a **bar chart** and a **pie chart** using `fur_counts`.\n",
        "- Title and label the bar chart appropriately.\n",
        "- Add percentages to the pie chart.\n"
      ]
    },
    {
      "cell_type": "code",
      "execution_count": 44,
      "id": "fdcbc78d",
      "metadata": {
        "id": "fdcbc78d"
      },
      "outputs": [
        {
          "data": {
            "image/png": "[encoded data removed]",
            "text/plain": [
              "<Figure size 800x500 with 1 Axes>"
            ]
          },
          "metadata": {},
          "output_type": "display_data"
        },
        {
          "data": {
            "image/png": "[encoded data removed]",
            "text/plain": [
              "<Figure size 600x600 with 1 Axes>"
            ]
          },
          "metadata": {},
          "output_type": "display_data"
        }
      ],
      "source": [
        "\n",
        "#TODO: Your task with the squirrel dataset!\n",
        "#Please provide you code here\n",
        "\n",
        "import matplotlib.pyplot as plt\n",
        "\n",
        "# Bar chart\n",
        "plt.figure(figsize=(8,5))\n",
        "fur_counts.plot(kind='bar', color=['gray','saddlebrown','black'])\n",
        "plt.title(\"Distribution of Squirrel Fur Colors\")\n",
        "plt.xlabel(\"Fur Color\")\n",
        "plt.ylabel(\"Count\")\n",
        "plt.show()\n",
        "\n",
        "# Pie chart\n",
        "plt.figure(figsize=(6,6))\n",
        "fur_counts.plot(kind='pie', autopct='%1.1f%%', startangle=90, colors=['gray','saddlebrown','black'])\n",
        "plt.title(\"Squirrel Fur Colors (Percentage)\")\n",
        "plt.ylabel(\"\")  # Remove default ylabel\n",
        "plt.show()\n"
      ]
    },
    {
      "cell_type": "markdown",
      "id": "f5a78f68",
      "metadata": {
        "id": "f5a78f68"
      },
      "source": [
        "## Step 6 — Interpret the results"
      ]
    },
    {
      "cell_type": "markdown",
      "id": "1cf986a5",
      "metadata": {
        "id": "1cf986a5"
      },
      "source": [
        "\n",
        "**Task:** Write 3–5 sentences:\n",
        "- Which fur color is most common?\n",
        "- Are there close runners-up?\n",
        "- What could explain the distribution?\n"
      ]
    },
    {
      "cell_type": "code",
      "execution_count": null,
      "id": "4abaeb4f",
      "metadata": {
        "id": "4abaeb4f"
      },
      "outputs": [],
      "source": [
        "#TODO: Your task with the squirrel dataset!\n",
        "\n",
        "The most common fur color is gray, followed by cinnamon and then black. Gray squirrels make up more than 80% of the total observations.\n",
        "The next colors, cinnamon and black, are a lot less common and make up less than 20% of the total observations. There are also a few\n",
        "missing / unknown values in the dataset, composing about 1.5% of the total observations. This survey shows the natural dobinance of \n",
        "grey colored squireels in Central Park, probably due to genetics or environmental factors.\n"
      ]
    },
    {
      "cell_type": "markdown",
      "id": "Iorjq-Nkg1o-",
      "metadata": {
        "id": "Iorjq-Nkg1o-"
      },
      "source": [
        "## Independent Research Question  \n",
        "\n",
        "**Research Question:**  \n",
        "*Where are squirrels most spotted in Central Park? And why?*  \n",
        "\n",
        "**Things to consider:**\n",
        "- Are there any missing or malformed values in the `hectare` column?  \n",
        "- Should you inspect/clean/standardize the hectare codes before counting?  \n",
        "- Do some hectares naturally have more observations because...?\n",
        "- Which visualization works best to your audience?\n",
        "\n",
        "### Guidance (light touch, not step-by-step):  \n",
        "- Use the `hectare` column, a grid ID that divides the park into rows A–I and columns 1–42.  \n",
        "- Count how many squirrels were observed in each hectare.  \n",
        "- Consider visualizing the results.   \n",
        "- Write a short interpretation: Where are the hotspots? Why might those areas have more sightings?  \n",
        "\n",
        "### Dataset Details: NYC OpenData\n",
        "https://data.cityofnewyork.us/Environment/2018-Central-Park-Squirrel-Census-Squirrel-Data/vfnx-vebw/about_data\n"
      ]
    }
  ],
  "metadata": {
    "colab": {
      "provenance": []
    },
    "kernelspec": {
      "display_name": "base",
      "language": "python",
      "name": "python3"
    },
    "language_info": {
      "codemirror_mode": {
        "name": "ipython",
        "version": 3
      },
      "file_extension": ".py",
      "mimetype": "text/x-python",
      "name": "python",
      "nbconvert_exporter": "python",
      "pygments_lexer": "ipython3",
      "version": "3.11.5"
    }
  },
  "nbformat": 4,
  "nbformat_minor": 5
}
